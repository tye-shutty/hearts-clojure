{
 "cells": [
  {
   "cell_type": "code",
   "execution_count": 17,
   "metadata": {},
   "outputs": [
    {
     "name": "stderr",
     "output_type": "stream",
     "text": [
      "Syntax error compiling if at (./src/hearts/on_suit_weights.clj:123:5).\n",
      "Too few arguments to if\n"
     ]
    },
    {
     "ename": "class clojure.lang.Compiler$CompilerException",
     "evalue": "",
     "output_type": "error",
     "traceback": [
      "  Util.java:   221 clojure.lang.Util/runtimeException",
      "    RT.java:   327 clojure.lang.RT$3/invoke",
      "   core.clj:  3214 clojure.core$eval/invokeStatic",
      "   core.clj:  3210 clojure.core$eval/invoke",
      "   main.clj:   437 clojure.main$repl$read_eval_print__9086$fn__9089/invoke",
      "   main.clj:   458 clojure.main$repl$fn__9095/invoke",
      "   main.clj:   368 clojure.main$repl/doInvoke",
      "RestFn.java:  1523 clojure.lang.RestFn/invoke",
      "   AFn.java:    22 clojure.lang.AFn/run",
      "   AFn.java:    22 clojure.lang.AFn/run",
      "Thread.java:   745 java.lang.Thread/run"
     ]
    }
   ],
   "source": [
    "(load-file \"./src/hearts/common_helpers.clj\")\n",
    "(load-file \"./src/hearts/pass_ns.clj\")\n",
    "(load-file \"./src/hearts/on_suit_weights.clj\")\n",
    "(load-file \"./src/hearts/off_suit_weights_ns.clj\")\n",
    ";(def directory (clojure.java.io/file \"./src/hearts\"))\n",
    ";(file-seq directory)\n",
    ";hearts.common-helpers/commonly-high"
   ]
  },
  {
   "cell_type": "code",
   "execution_count": null,
   "metadata": {},
   "outputs": [],
   "source": []
  }
 ],
 "metadata": {
  "kernelspec": {
   "display_name": "Clojure (clojupyter=0.3.2=1)",
   "language": "clojure",
   "name": "conda-clojupyter"
  },
  "language_info": {
   "file_extension": ".clj",
   "mimetype": "text/x-clojure",
   "name": "clojure",
   "version": "1.10.1"
  }
 },
 "nbformat": 4,
 "nbformat_minor": 4
}
