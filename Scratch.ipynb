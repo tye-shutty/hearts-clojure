{
 "cells": [
  {
   "cell_type": "code",
   "execution_count": 20,
   "metadata": {},
   "outputs": [
    {
     "data": {
      "text/plain": [
       "nil"
      ]
     },
     "execution_count": 20,
     "metadata": {},
     "output_type": "execute_result"
    }
   ],
   "source": [
    "(load-file \"./src/hearts/common_helpers.clj\")\n",
    "(load-file \"./src/hearts/pass_ns.clj\")\n",
    "(load-file \"./src/hearts/on_suit_weights.clj\")\n",
    "(load-file \"./src/hearts/off_suit_weights_ns.clj\")\n",
    "(load-file \"./src/hearts/core.clj\")\n",
    "(ns hearts-core)\n",
    ";(def directory (clojure.java.io/file \"./src/hearts\"))\n",
    ";(file-seq directory)\n",
    ";hearts.common-helpers/commonly-high"
   ]
  },
  {
   "cell_type": "code",
   "execution_count": 26,
   "metadata": {},
   "outputs": [
    {
     "data": {
      "text/plain": [
       "nil"
      ]
     },
     "execution_count": 26,
     "metadata": {},
     "output_type": "execute_result"
    }
   ],
   "source": [
    "(some #{36} [1 2])"
   ]
  },
  {
   "cell_type": "code",
   "execution_count": 36,
   "metadata": {},
   "outputs": [
    {
     "data": {
      "text/plain": [
       "nil"
      ]
     },
     "execution_count": 36,
     "metadata": {},
     "output_type": "execute_result"
    }
   ],
   "source": [
    "(some #{true}[1 false])"
   ]
  },
  {
   "cell_type": "code",
   "execution_count": 38,
   "metadata": {},
   "outputs": [
    {
     "data": {
      "text/plain": [
       "1"
      ]
     },
     "execution_count": 38,
     "metadata": {},
     "output_type": "execute_result"
    }
   ],
   "source": [
    "(apply min [1 2 3])"
   ]
  },
  {
   "cell_type": "code",
   "execution_count": 39,
   "metadata": {},
   "outputs": [
    {
     "data": {
      "text/plain": [
       "2"
      ]
     },
     "execution_count": 39,
     "metadata": {},
     "output_type": "execute_result"
    }
   ],
   "source": [
    "(quot 5 2)"
   ]
  },
  {
   "cell_type": "code",
   "execution_count": 41,
   "metadata": {},
   "outputs": [
    {
     "name": "stderr",
     "output_type": "stream",
     "text": [
      "Execution error (IndexOutOfBoundsException) at hearts-core/eval5291 (REPL:1).\n",
      "null\n"
     ]
    },
    {
     "ename": "class java.lang.IndexOutOfBoundsException",
     "evalue": "",
     "output_type": "error",
     "traceback": [
      " PersistentVector.java:   188 clojure.lang.PersistentVector/assocN",
      "APersistentVector.java:   345 clojure.lang.APersistentVector/assoc",
      "               RT.java:   827 clojure.lang.RT/assoc ",
      "              core.clj:   191 clojure.core$assoc__5416/invokeStatic",
      "              core.clj:  6196 clojure.core$update/invokeStatic",
      "              core.clj:  6188 clojure.core$update/invoke",
      "              core.clj:  3214 clojure.core$eval/invokeStatic",
      "              core.clj:  3210 clojure.core$eval/invoke",
      "              main.clj:   437 clojure.main$repl$read_eval_print__9086$fn__9089/invoke",
      "              main.clj:   458 clojure.main$repl$fn__9095/invoke",
      "              main.clj:   368 clojure.main$repl/doInvoke",
      "           RestFn.java:  1523 clojure.lang.RestFn/invoke",
      "              AFn.java:    22 clojure.lang.AFn/run  ",
      "              AFn.java:    22 clojure.lang.AFn/run  ",
      "           Thread.java:   745 java.lang.Thread/run  "
     ]
    }
   ],
   "source": [
    "(update ({1 [3 '(5 6)]} 1) 3 identity)"
   ]
  },
  {
   "cell_type": "code",
   "execution_count": null,
   "metadata": {},
   "outputs": [],
   "source": []
  }
 ],
 "metadata": {
  "kernelspec": {
   "display_name": "Clojure (clojupyter=0.3.2=1)",
   "language": "clojure",
   "name": "conda-clojupyter"
  },
  "language_info": {
   "file_extension": ".clj",
   "mimetype": "text/x-clojure",
   "name": "clojure",
   "version": "1.10.1"
  }
 },
 "nbformat": 4,
 "nbformat_minor": 4
}
