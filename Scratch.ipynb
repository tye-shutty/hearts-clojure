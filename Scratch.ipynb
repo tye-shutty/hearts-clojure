{
 "cells": [
  {
   "cell_type": "code",
   "execution_count": 10,
   "metadata": {},
   "outputs": [
    {
     "data": {
      "text/plain": [
       "{[0 0] (), [4 3] (47 49 50), [3 2] (12 35 0), [2 1] (48 51 36), [1 4] (22 9 23)}"
      ]
     },
     "execution_count": 10,
     "metadata": {},
     "output_type": "execute_result"
    }
   ],
   "source": [
    "(load-file \"./src/hearts/common_helpers.clj\")\n",
    "(load-file \"./src/hearts/pass_ns.clj\")\n",
    "(load-file \"./src/hearts/on_suit_weights.clj\")\n",
    "(load-file \"./src/hearts/off_suit_weights_ns.clj\")\n",
    "(load-file \"./src/hearts/core.clj\")\n",
    ";(def directory (clojure.java.io/file \"./src/hearts\"))\n",
    ";(file-seq directory)\n",
    ";hearts.common-helpers/commonly-high\n",
    ";(first-round-init (pass (start-game)))\n",
    ";(pass (start-game))\n",
    ";(prn *ns*)\n",
    "(ns hearts.core)\n",
    "(ns-publics *ns*)\n",
    "(let [gs (pass (start-game))]\n",
    "    (gs \"passed\"))\n",
    ";(first-round-init (pass (start-game)))"
   ]
  },
  {
   "cell_type": "code",
   "execution_count": 12,
   "metadata": {},
   "outputs": [
    {
     "name": "stdout",
     "output_type": "stream",
     "text": [
      "TRACE t4688: (hearts.core/start-game)\n",
      "TRACE t4689: | (hearts.core/deal {\"points-history\" ([0 0 0 0 0]), \"card-history\" (), \"first-players\" (), \"pass-direction\" -1, \"shoot-moon\" [false false false false false], \"human\" [0 0 0 0 0]})\n",
      "TRACE t4689: | => {\"player-cards\" [#{} #{1 15 19 26 31 33 35 41 42 44 45 46 50} #{2 11 12 13 14 23 24 29 32 34 37 38 43} #{5 8 10 16 20 22 27 30 40 47 48 49 51} #{0 3 4 6 7 9 17 18 21 25 28 36 39}], \"card-players\" [4 1 2 4 4 3 4 4 3 4 3 2 2 2 2 1 3 4 4 1 3 4 3 2 2 4 1 3 4 2 3 1 2 1 2 1 4 2 2 4 3 1 1 2 1 1 1 3 3 3 1 3], \"shoot-moon\" [false false false false false], \"pass-direction\" -1, \"card-history\" (), \"first-players\" (), \"human\" [0 0 0 0 0], \"passed\" {[0 0] ()}, \"points-history\" ([0 0 0 0 0] [0 0 0 0 0])}\n",
      "TRACE t4688: => {\"player-cards\" [#{} #{1 15 19 26 31 33 35 41 42 44 45 46 50} #{2 11 12 13 14 23 24 29 32 34 37 38 43} #{5 8 10 16 20 22 27 30 40 47 48 49 51} #{0 3 4 6 7 9 17 18 21 25 28 36 39}], \"card-players\" [4 1 2 4 4 3 4 4 3 4 3 2 2 2 2 1 3 4 4 1 3 4 3 2 2 4 1 3 4 2 3 1 2 1 2 1 4 2 2 4 3 1 1 2 1 1 1 3 3 3 1 3], \"shoot-moon\" [false false false false false], \"pass-direction\" -1, \"card-history\" (), \"first-players\" (), \"human\" [0 0 0 0 0], \"passed\" {[0 0] ()}, \"points-history\" ([0 0 0 0 0] [0 0 0 0 0])}\n",
      "TRACE t4690: (hearts.core/first-round-init {\"player-cards\" [#{} #{1 2 13 14 15 19 26 31 33 35 41 42 44} #{11 12 23 24 29 32 34 37 38 43 48 49 51} #{0 5 8 10 16 20 22 25 27 30 36 40 47} #{3 4 6 7 9 17 18 21 28 39 45 46 50}], \"card-players\" [3 1 1 4 4 3 4 4 3 4 3 2 2 1 1 1 3 4 4 1 3 4 3 2 2 3 1 3 4 2 3 1 2 1 2 1 3 2 2 4 3 1 1 2 1 4 4 3 2 2 4 2], \"shoot-moon\" [false false true false false], \"pass-direction\" 1, \"card-history\" (), \"first-players\" (), \"human\" [0 0 0 0 0], \"passed\" {[0 0] (), [4 3] (0 25 36), [3 2] (48 49 51), [2 1] (2 13 14), [1 4] (45 46 50)}, \"points-history\" ([0 0 0 0 0] [0 0 0 0 0])})\n",
      "\"test\"\n"
     ]
    },
    {
     "name": "stderr",
     "output_type": "stream",
     "text": [
      "Execution error (IllegalArgumentException) at hearts.core/first-round-init$fn (core.clj:80).\n",
      "Key must be integer\n"
     ]
    },
    {
     "ename": "class java.lang.IllegalArgumentException",
     "evalue": "",
     "output_type": "error",
     "traceback": [
      "APersistentVector.java:   347 clojure.lang.APersistentVector/assoc",
      "               RT.java:   827 clojure.lang.RT/assoc ",
      "              core.clj:   191 clojure.core$assoc__5416/invokeStatic",
      "              core.clj:  6196 clojure.core$update/invokeStatic",
      "              core.clj:  6188 clojure.core$update/invoke",
      "              core.clj:    80 hearts.core$first_round_init$fn__4646/invoke",
      "              core.clj:  7374 clojure.core$keep_indexed$keepi__8568$fn__8569/invoke",
      "          LazySeq.java:    42 clojure.lang.LazySeq/sval",
      "          LazySeq.java:    51 clojure.lang.LazySeq/seq",
      "               RT.java:   535 clojure.lang.RT/seq   ",
      "              core.clj:   137 clojure.core$seq__5402/invokeStatic",
      "        core_print.clj:    53 clojure.core$print_sequential/invokeStatic",
      "        core_print.clj:   174 clojure.core$fn__7310/invokeStatic",
      "          MultiFn.java:   234 clojure.lang.MultiFn/invoke",
      "              core.clj:  3674 clojure.core$pr_on/invokeStatic",
      "              core.clj:  3668 clojure.core$pr_on/invoke",
      "        core_print.clj:   233 clojure.core$print_prefix_map$fn__7332/invoke",
      "        core_print.clj:    66 clojure.core$print_sequential/invokeStatic",
      "        core_print.clj:   229 clojure.core$print_prefix_map/invokeStatic",
      "        core_print.clj:   238 clojure.core$print_map/invokeStatic",
      "        core_print.clj:   266 clojure.core$fn__7359/invokeStatic",
      "        core_print.clj:   263 clojure.core$fn__7359/invoke",
      "          MultiFn.java:   234 clojure.lang.MultiFn/invoke",
      "              core.clj:  3674 clojure.core$pr_on/invokeStatic",
      "              core.clj:  3677 clojure.core$pr/invokeStatic",
      "              AFn.java:   154 clojure.lang.AFn/applyToHelper",
      "           RestFn.java:   132 clojure.lang.RestFn/applyTo",
      "              core.clj:   665 clojure.core$apply/invokeStatic",
      "              core.clj:  4736 clojure.core$pr_str/invokeStatic",
      "           RestFn.java:   408 clojure.lang.RestFn/invoke",
      "             trace.clj:    99 clojure.tools.trace$trace_fn_call/invokeStatic",
      "             trace.clj:    91 clojure.tools.trace$trace_fn_call/invoke",
      "             trace.clj:   334 clojure.tools.trace$trace_var_STAR_$fn__4301$tracing_wrapper__4302/doInvoke",
      "           RestFn.java:   408 clojure.lang.RestFn/invoke",
      "              core.clj:  3214 clojure.core$eval/invokeStatic",
      "              core.clj:  3210 clojure.core$eval/invoke",
      "              main.clj:   437 clojure.main$repl$read_eval_print__9086$fn__9089/invoke",
      "              main.clj:   458 clojure.main$repl$fn__9095/invoke",
      "              main.clj:   368 clojure.main$repl/doInvoke",
      "           RestFn.java:  1523 clojure.lang.RestFn/invoke",
      "              AFn.java:    22 clojure.lang.AFn/run  ",
      "              AFn.java:    22 clojure.lang.AFn/run  ",
      "           Thread.java:   745 java.lang.Thread/run  "
     ]
    }
   ],
   "source": [
    "(do\n",
    "(use '[cemerick.pomegranate :only (add-dependencies)])\n",
    "(add-dependencies :coordinates '[[org.clojure/tools.trace \"0.7.10\"]]))\n",
    "(use 'clojure.tools.trace)\n",
    "(trace-ns hearts.core)\n",
    "(first-round-init (pass (start-game)))"
   ]
  },
  {
   "cell_type": "code",
   "execution_count": 25,
   "metadata": {},
   "outputs": [
    {
     "data": {
      "text/plain": [
       "[0 0 0 0 2]"
      ]
     },
     "execution_count": 25,
     "metadata": {},
     "output_type": "execute_result"
    }
   ],
   "source": [
    "(update [0 0 0 0 0] 4 (constantly 2))"
   ]
  },
  {
   "cell_type": "code",
   "execution_count": 26,
   "metadata": {},
   "outputs": [
    {
     "data": {
      "text/plain": [
       "nil"
      ]
     },
     "execution_count": 26,
     "metadata": {},
     "output_type": "execute_result"
    }
   ],
   "source": [
    "(some #{36} [1 2])"
   ]
  },
  {
   "cell_type": "code",
   "execution_count": 36,
   "metadata": {},
   "outputs": [
    {
     "data": {
      "text/plain": [
       "nil"
      ]
     },
     "execution_count": 36,
     "metadata": {},
     "output_type": "execute_result"
    }
   ],
   "source": [
    "(some #{true}[1 false])"
   ]
  },
  {
   "cell_type": "code",
   "execution_count": 38,
   "metadata": {},
   "outputs": [
    {
     "data": {
      "text/plain": [
       "1"
      ]
     },
     "execution_count": 38,
     "metadata": {},
     "output_type": "execute_result"
    }
   ],
   "source": [
    "(apply min [1 2 3])"
   ]
  },
  {
   "cell_type": "code",
   "execution_count": 39,
   "metadata": {},
   "outputs": [
    {
     "data": {
      "text/plain": [
       "2"
      ]
     },
     "execution_count": 39,
     "metadata": {},
     "output_type": "execute_result"
    }
   ],
   "source": [
    "(quot 5 2)"
   ]
  },
  {
   "cell_type": "code",
   "execution_count": 42,
   "metadata": {},
   "outputs": [
    {
     "data": {
      "text/plain": [
       "[3 (5 6)]"
      ]
     },
     "execution_count": 42,
     "metadata": {},
     "output_type": "execute_result"
    }
   ],
   "source": [
    "(update ({1 [3 '(5 6)]} 1) 0 identity)"
   ]
  },
  {
   "cell_type": "code",
   "execution_count": 27,
   "metadata": {},
   "outputs": [
    {
     "data": {
      "text/plain": [
       "java.lang.Long"
      ]
     },
     "execution_count": 27,
     "metadata": {},
     "output_type": "execute_result"
    }
   ],
   "source": [
    "(type 2)"
   ]
  },
  {
   "cell_type": "code",
   "execution_count": 14,
   "metadata": {},
   "outputs": [
    {
     "data": {
      "text/plain": [
       "\"/home/tye/anaconda3/jre\""
      ]
     },
     "execution_count": 14,
     "metadata": {},
     "output_type": "execute_result"
    }
   ],
   "source": [
    "(System/getProperty \"java.home\")"
   ]
  },
  {
   "cell_type": "code",
   "execution_count": 15,
   "metadata": {},
   "outputs": [
    {
     "data": {
      "text/plain": [
       "true"
      ]
     },
     "execution_count": 15,
     "metadata": {},
     "output_type": "execute_result"
    }
   ],
   "source": [
    "(if () true false)"
   ]
  },
  {
   "cell_type": "code",
   "execution_count": 18,
   "metadata": {},
   "outputs": [
    {
     "data": {
      "text/plain": [
       "false"
      ]
     },
     "execution_count": 18,
     "metadata": {},
     "output_type": "execute_result"
    }
   ],
   "source": [
    "(boolean? 1)"
   ]
  },
  {
   "cell_type": "code",
   "execution_count": 19,
   "metadata": {},
   "outputs": [
    {
     "data": {
      "text/plain": [
       "true"
      ]
     },
     "execution_count": 19,
     "metadata": {},
     "output_type": "execute_result"
    }
   ],
   "source": [
    "(not nil)"
   ]
  },
  {
   "cell_type": "code",
   "execution_count": 20,
   "metadata": {},
   "outputs": [
    {
     "data": {
      "text/plain": [
       "(1 2 3)"
      ]
     },
     "execution_count": 20,
     "metadata": {},
     "output_type": "execute_result"
    }
   ],
   "source": [
    "(sort #{1 3 2})"
   ]
  },
  {
   "cell_type": "code",
   "execution_count": 21,
   "metadata": {},
   "outputs": [
    {
     "data": {
      "text/plain": [
       "(false false false false false)"
      ]
     },
     "execution_count": 21,
     "metadata": {},
     "output_type": "execute_result"
    }
   ],
   "source": [
    "(map (fn [player-past has-queen]\n",
    "                                (and (= 1 has-queen)\n",
    "                                    (= -1 player-past)))\n",
    "                              [-2 -1 -1 0 0] [0 0 0 1 1])"
   ]
  },
  {
   "cell_type": "code",
   "execution_count": 22,
   "metadata": {},
   "outputs": [
    {
     "data": {
      "text/plain": [
       "nil"
      ]
     },
     "execution_count": 22,
     "metadata": {},
     "output_type": "execute_result"
    }
   ],
   "source": [
    "(some #{36} [-2 -1 -1 0 0])"
   ]
  },
  {
   "cell_type": "code",
   "execution_count": 23,
   "metadata": {},
   "outputs": [
    {
     "data": {
      "text/plain": [
       "false"
      ]
     },
     "execution_count": 23,
     "metadata": {},
     "output_type": "execute_result"
    }
   ],
   "source": [
    "(and false nil)"
   ]
  },
  {
   "cell_type": "code",
   "execution_count": 24,
   "metadata": {},
   "outputs": [
    {
     "data": {
      "text/plain": [
       "nil"
      ]
     },
     "execution_count": 24,
     "metadata": {},
     "output_type": "execute_result"
    }
   ],
   "source": [
    "(let\n",
    "  [round-card-history [-2 -1 -1 0 0]\n",
    "   curr-could-have-36 [0 0 0 1 1]]\n",
    "  (and (not (some true? (map (fn [player-past has-queen]\n",
    "                                (and (= 1 has-queen)\n",
    "                                    (= -1 player-past)))\n",
    "                              round-card-history\n",
    "                              curr-could-have-36)))\n",
    "       (some #{36} round-card-history)))"
   ]
  },
  {
   "cell_type": "code",
   "execution_count": 25,
   "metadata": {},
   "outputs": [
    {
     "data": {
      "text/plain": [
       "true"
      ]
     },
     "execution_count": 25,
     "metadata": {},
     "output_type": "execute_result"
    }
   ],
   "source": [
    "(let\n",
    "  [round-card-history [-2 -1 -1 0 0]\n",
    "   curr-could-have-36 [0 0 0 1 1]]\n",
    "  (not (some true? (map (fn [player-past has-queen]\n",
    "                                (and (= 1 has-queen)\n",
    "                                    (= -1 player-past)))\n",
    "                              round-card-history\n",
    "                              curr-could-have-36))))"
   ]
  },
  {
   "cell_type": "code",
   "execution_count": null,
   "metadata": {},
   "outputs": [],
   "source": []
  }
 ],
 "metadata": {
  "kernelspec": {
   "display_name": "Clojure (clojupyter=0.3.2=1)",
   "language": "clojure",
   "name": "conda-clojupyter"
  },
  "language_info": {
   "file_extension": ".clj",
   "mimetype": "text/x-clojure",
   "name": "clojure",
   "version": "1.10.1"
  }
 },
 "nbformat": 4,
 "nbformat_minor": 4
}
